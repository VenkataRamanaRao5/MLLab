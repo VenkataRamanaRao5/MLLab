{
 "cells": [
  {
   "cell_type": "code",
   "execution_count": 1,
   "id": "ad25d42e",
   "metadata": {},
   "outputs": [],
   "source": [
    "import pandas as pd\n",
    "import matplotlib.pyplot as plt"
   ]
  },
  {
   "cell_type": "code",
   "execution_count": 2,
   "id": "93408c1f",
   "metadata": {},
   "outputs": [
    {
     "name": "stdout",
     "output_type": "stream",
     "text": [
      "   x   y\n",
      "0  2  69\n",
      "1  9  98\n",
      "2  5  82\n",
      "3  5  77\n",
      "4  3  71\n",
      "5  7  84\n",
      "6  1  55\n",
      "7  8  94\n",
      "8  6  84\n",
      "9  2  64\n"
     ]
    }
   ],
   "source": [
    "data = pd.read_excel('data_points.xlsx')\n",
    "print(data)"
   ]
  },
  {
   "cell_type": "code",
   "execution_count": 3,
   "id": "3ebb8f17",
   "metadata": {},
   "outputs": [
    {
     "name": "stdout",
     "output_type": "stream",
     "text": [
      "4.8 77.8\n"
     ]
    }
   ],
   "source": [
    "x_bar = data['x'].mean()\n",
    "y_bar = data['y'].mean()\n",
    "\n",
    "print(x_bar, y_bar)"
   ]
  },
  {
   "cell_type": "code",
   "execution_count": 4,
   "id": "8b56e03a",
   "metadata": {},
   "outputs": [
    {
     "name": "stdout",
     "output_type": "stream",
     "text": [
      "   x   y  x-x̄   y-ȳ  (x-x̄)(y-ȳ)  (x-x̄)²\n",
      "0  2  69  -2.8  -8.8        24.64     7.84\n",
      "1  9  98   4.2  20.2        84.84    17.64\n",
      "2  5  82   0.2   4.2         0.84     0.04\n",
      "3  5  77   0.2  -0.8        -0.16     0.04\n",
      "4  3  71  -1.8  -6.8        12.24     3.24\n",
      "5  7  84   2.2   6.2        13.64     4.84\n",
      "6  1  55  -3.8 -22.8        86.64    14.44\n",
      "7  8  94   3.2  16.2        51.84    10.24\n",
      "8  6  84   1.2   6.2         7.44     1.44\n",
      "9  2  64  -2.8 -13.8        38.64     7.84\n"
     ]
    }
   ],
   "source": [
    "data['x-x̄'] = data['x'] - x_bar\n",
    "data['y-ȳ'] = data['y'] - y_bar\n",
    "data['(x-x̄)(y-ȳ)'] = data['x-x̄'] * data['y-ȳ']\n",
    "data['(x-x̄)²'] = data['x-x̄'] ** 2\n",
    "print(data)"
   ]
  },
  {
   "cell_type": "code",
   "execution_count": 5,
   "id": "c55f1b1c",
   "metadata": {},
   "outputs": [
    {
     "name": "stdout",
     "output_type": "stream",
     "text": [
      "320.59999999999997 67.6\n"
     ]
    }
   ],
   "source": [
    "sum1 = data['(x-x̄)(y-ȳ)'].sum()\n",
    "sum2 = data['(x-x̄)²'].sum()\n",
    "print(sum1, sum2)"
   ]
  },
  {
   "cell_type": "code",
   "execution_count": 6,
   "id": "2e61ef6f",
   "metadata": {},
   "outputs": [
    {
     "name": "stdout",
     "output_type": "stream",
     "text": [
      "m = 4.742603550295858, c = 55.03550295857988\n"
     ]
    }
   ],
   "source": [
    "m = sum1 / sum2\n",
    "c = y_bar - m * x_bar\n",
    "print(f'm = {m}, c = {c}')"
   ]
  },
  {
   "cell_type": "code",
   "execution_count": 7,
   "id": "aef31307",
   "metadata": {},
   "outputs": [],
   "source": [
    "y_hat = lambda x: m * x + c"
   ]
  },
  {
   "cell_type": "code",
   "execution_count": 8,
   "id": "5b45e4ea",
   "metadata": {},
   "outputs": [
    {
     "data": {
      "text/plain": [
       "69.26331360946746"
      ]
     },
     "execution_count": 8,
     "metadata": {},
     "output_type": "execute_result"
    }
   ],
   "source": [
    "y_hat(3)"
   ]
  },
  {
   "cell_type": "code",
   "execution_count": 9,
   "id": "c579ce74",
   "metadata": {},
   "outputs": [],
   "source": [
    "data.to_excel('filled_data.xlsx')"
   ]
  },
  {
   "cell_type": "code",
   "execution_count": 10,
   "id": "e5473b25",
   "metadata": {},
   "outputs": [
    {
     "data": {
      "image/png": "[encoded data removed]",
      "text/plain": [
       "<Figure size 640x480 with 1 Axes>"
      ]
     },
     "metadata": {},
     "output_type": "display_data"
    }
   ],
   "source": [
    "data.plot.scatter('x', 'y', label='data_points')\n",
    "axes = plt.gca()\n",
    "x_vals = pd.Series(axes.get_xlim())\n",
    "y_vals = c + m * x_vals\n",
    "plt.plot(x_vals, y_vals, color='orange', label='best_fit_line')\n",
    "plt.scatter([3], [y_hat(3)], color='red', label='prediction')\n",
    "plt.legend()\n",
    "plt.show()"
   ]
  }
 ],
 "metadata": {
  "kernelspec": {
   "display_name": "Python 3 (ipykernel)",
   "language": "python",
   "name": "python3"
  },
  "language_info": {
   "codemirror_mode": {
    "name": "ipython",
    "version": 3
   },
   "file_extension": ".py",
   "mimetype": "text/x-python",
   "name": "python",
   "nbconvert_exporter": "python",
   "pygments_lexer": "ipython3",
   "version": "3.10.9"
  }
 },
 "nbformat": 4,
 "nbformat_minor": 5
}
