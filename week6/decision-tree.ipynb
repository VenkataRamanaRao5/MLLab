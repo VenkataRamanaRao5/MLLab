{
 "cells": [
  {
   "cell_type": "code",
   "execution_count": 1,
   "metadata": {},
   "outputs": [],
   "source": [
    "import numpy as np\n",
    "import pandas as pd\n",
    "import matplotlib.pyplot as plt\n"
   ]
  },
  {
   "cell_type": "code",
   "execution_count": 2,
   "metadata": {},
   "outputs": [],
   "source": [
    "data = {\n",
    "    \"RID\": [1, 2, 3, 4, 5, 6, 7, 8, 9, 10, 11, 12, 13, 14],\n",
    "    \"age\": [\"youth\", \"youth\", \"middle_aged\", \"senior\", \"senior\", \"senior\", \"middle_aged\", \"youth\", \"youth\", \"senior\", \"youth\", \"middle_aged\", \"middle_aged\", \"senior\"],\n",
    "    \"income\": [\"high\", \"high\", \"high\", \"medium\", \"low\", \"low\", \"low\", \"medium\", \"low\", \"medium\", \"medium\", \"medium\", \"high\", \"medium\"],\n",
    "    \"student\": [\"no\", \"no\", \"no\", \"no\", \"no\", \"yes\", \"yes\", \"yes\", \"yes\", \"yes\", \"yes\", \"no\", \"yes\", \"no\"],\n",
    "    \"credit_rating\": [\"fair\", \"excellent\", \"fair\", \"fair\", \"fair\", \"excellent\", \"excellent\", \"fair\", \"fair\", \"fair\", \"excellent\", \"excellent\", \"fair\", \"excellent\"],\n",
    "    \"buys_computer\": [\"no\", \"no\", \"yes\", \"yes\", \"yes\", \"no\", \"yes\", \"yes\", \"yes\", \"yes\", \"yes\", \"yes\", \"yes\", \"no\"]\n",
    "}"
   ]
  },
  {
   "cell_type": "code",
   "execution_count": 3,
   "metadata": {},
   "outputs": [
    {
     "name": "stdout",
     "output_type": "stream",
     "text": [
      "Dataset:\n",
      "    RID          age  income student credit_rating buys_computer\n",
      "0     1        youth    high      no          fair            no\n",
      "1     2        youth    high      no     excellent            no\n",
      "2     3  middle_aged    high      no          fair           yes\n",
      "3     4       senior  medium      no          fair           yes\n",
      "4     5       senior     low      no          fair           yes\n",
      "5     6       senior     low     yes     excellent            no\n",
      "6     7  middle_aged     low     yes     excellent           yes\n",
      "7     8        youth  medium     yes          fair           yes\n",
      "8     9        youth     low     yes          fair           yes\n",
      "9    10       senior  medium     yes          fair           yes\n",
      "10   11        youth  medium     yes     excellent           yes\n",
      "11   12  middle_aged  medium      no     excellent           yes\n",
      "12   13  middle_aged    high     yes          fair           yes\n",
      "13   14       senior  medium      no     excellent            no\n"
     ]
    }
   ],
   "source": [
    "df = pd.DataFrame(data)\n",
    "print(\"Dataset:\")\n",
    "print(df)"
   ]
  },
  {
   "cell_type": "code",
   "execution_count": 4,
   "metadata": {},
   "outputs": [],
   "source": [
    "def entropy(target_col):\n",
    "    \"\"\"Calculate the entropy of a dataset.\"\"\"\n",
    "    elements, counts = np.unique(target_col, return_counts=True)\n",
    "    entropy_val = -np.sum([(counts[i] / np.sum(counts)) * np.log2(counts[i] / np.sum(counts)) for i in range(len(elements))])\n",
    "    return entropy_val"
   ]
  },
  {
   "cell_type": "code",
   "execution_count": 5,
   "metadata": {},
   "outputs": [],
   "source": [
    "def info_gain(data, split_attr, target_attr):\n",
    "    \"\"\"Calculate the Information Gain for a splitting attribute.\"\"\"\n",
    "    total_entropy = entropy(data[target_attr])\n",
    "    vals, counts = np.unique(data[split_attr], return_counts=True)\n",
    "    weighted_entropy = np.sum([(counts[i] / np.sum(counts)) * entropy(data.where(data[split_attr] == vals[i]).dropna()[target_attr]) for i in range(len(vals))])\n",
    "    info_gain_val = total_entropy - weighted_entropy\n",
    "    return info_gain_val\n"
   ]
  },
  {
   "cell_type": "code",
   "execution_count": 6,
   "metadata": {},
   "outputs": [
    {
     "name": "stdout",
     "output_type": "stream",
     "text": [
      "Entropy of the target attribute: 0.8631\n"
     ]
    }
   ],
   "source": [
    "target_entropy = entropy(df[\"buys_computer\"])\n",
    "print(f\"Entropy of the target attribute: {target_entropy:.4f}\")\n"
   ]
  },
  {
   "cell_type": "code",
   "execution_count": 7,
   "metadata": {},
   "outputs": [
    {
     "name": "stdout",
     "output_type": "stream",
     "text": [
      "\n",
      "Information Gain for each attribute:\n",
      "age: 0.1696\n",
      "income: 0.0670\n",
      "student: 0.0747\n",
      "credit_rating: 0.1239\n"
     ]
    }
   ],
   "source": [
    "attributes = [\"age\", \"income\", \"student\", \"credit_rating\"]\n",
    "print(\"\\nInformation Gain for each attribute:\")\n",
    "for attr in attributes:\n",
    "    ig = info_gain(df, attr, \"buys_computer\")\n",
    "    print(f\"{attr}: {ig:.4f}\")\n"
   ]
  },
  {
   "cell_type": "code",
   "execution_count": 8,
   "metadata": {},
   "outputs": [],
   "source": [
    "def gini_index(data, split_attr, target_attr):\n",
    "    \"\"\"Calculate the Gini Index for a splitting attribute.\"\"\"\n",
    "    vals, counts = np.unique(data[split_attr], return_counts=True)\n",
    "    gini = 0\n",
    "    for i in range(len(vals)):\n",
    "        subset = data.where(data[split_attr] == vals[i]).dropna()[target_attr]\n",
    "        _, subset_counts = np.unique(subset, return_counts=True)\n",
    "        prob = subset_counts / np.sum(subset_counts)\n",
    "        gini += (counts[i] / np.sum(counts)) * (1 - np.sum(prob ** 2))\n",
    "    return gini\n"
   ]
  },
  {
   "cell_type": "code",
   "execution_count": 9,
   "metadata": {},
   "outputs": [
    {
     "name": "stdout",
     "output_type": "stream",
     "text": [
      "\n",
      "Gini Index for each attribute:\n",
      "age: 0.3429\n",
      "income: 0.3690\n",
      "student: 0.3673\n",
      "credit_rating: 0.3393\n"
     ]
    }
   ],
   "source": [
    "print(\"\\nGini Index for each attribute:\")\n",
    "for attr in attributes:\n",
    "    gini = gini_index(df, attr, \"buys_computer\")\n",
    "    print(f\"{attr}: {gini:.4f}\")\n"
   ]
  },
  {
   "cell_type": "code",
   "execution_count": 10,
   "metadata": {},
   "outputs": [],
   "source": [
    "class DecisionTree:\n",
    "    def __init__(self, method=\"id3\"):\n",
    "        self.method = method\n",
    "        self.tree = {}\n",
    "\n",
    "    def fit(self, data, attributes, target):\n",
    "        if len(np.unique(data[target])) == 1:\n",
    "            return np.unique(data[target])[0]\n",
    "        elif len(attributes) == 0:\n",
    "            return data[target].mode()[0]\n",
    "\n",
    "        if self.method == \"id3\":\n",
    "            gains = [info_gain(data, attr, target) for attr in attributes]\n",
    "        elif self.method == \"cart\":\n",
    "            gains = [-gini_index(data, attr, target) for attr in attributes]\n",
    "        \n",
    "        best_attr = attributes[np.argmax(gains)]\n",
    "        tree = {best_attr: {}}\n",
    "\n",
    "        for value in np.unique(data[best_attr]):\n",
    "            subset = data[data[best_attr] == value]\n",
    "            subtree = self.fit(subset, [attr for attr in attributes if attr != best_attr], target)\n",
    "            tree[best_attr][value] = subtree\n",
    "\n",
    "        self.tree = tree\n",
    "        return tree\n",
    "\n",
    "    def pretty_print(self, tree=None, name=\"\"):\n",
    "        if tree is None:\n",
    "            tree = self.tree\n",
    "        for branch in tree:\n",
    "            print(name + branch)\n",
    "            for value in tree[branch]:\n",
    "                self.pretty_print(tree[branch][value], name + \"  \")\n",
    "\n",
    "    def predict(self, query):\n",
    "        node = self.tree\n",
    "        while isinstance(node, dict):\n",
    "            attr = next(iter(node))\n",
    "            value = query[attr]\n",
    "            node = node[attr][value]\n",
    "        return node\n",
    "\n",
    "    def __str__(self):\n",
    "        return pprint.pformat(self.tree)\n",
    "\n",
    "    def __repr__(self):\n",
    "        return self.__str__()\n"
   ]
  },
  {
   "cell_type": "code",
   "execution_count": 11,
   "metadata": {},
   "outputs": [
    {
     "name": "stdout",
     "output_type": "stream",
     "text": [
      "\n",
      "ID3 Decision Tree:\n",
      "{'age': {'middle_aged': 'yes', 'senior': {'credit_rating': {'excellent': 'no', 'fair': 'yes'}}, 'youth': {'income': {'high': 'no', 'low': 'yes', 'medium': 'yes'}}}}\n"
     ]
    }
   ],
   "source": [
    "decision_tree_id3 = DecisionTree(method=\"id3\")\n",
    "print(\"\\nID3 Decision Tree:\")\n",
    "id3_tree = decision_tree_id3.fit(df, attributes, \"buys_computer\")\n",
    "print(id3_tree)\n"
   ]
  },
  {
   "cell_type": "code",
   "execution_count": 12,
   "metadata": {},
   "outputs": [
    {
     "name": "stdout",
     "output_type": "stream",
     "text": [
      "\n",
      "CART Decision Tree:\n",
      "{'credit_rating': {'excellent': {'age': {'middle_aged': 'yes', 'senior': 'no', 'youth': {'income': {'high': 'no', 'medium': 'yes'}}}}, 'fair': {'age': {'middle_aged': 'yes', 'senior': 'yes', 'youth': {'income': {'high': 'no', 'low': 'yes', 'medium': 'yes'}}}}}}\n"
     ]
    }
   ],
   "source": [
    "decision_tree_cart = DecisionTree(method=\"cart\")\n",
    "print(\"\\nCART Decision Tree:\")\n",
    "cart_tree = decision_tree_cart.fit(df, attributes, \"buys_computer\")\n",
    "print(cart_tree)"
   ]
  },
  {
   "cell_type": "code",
   "execution_count": 13,
   "metadata": {},
   "outputs": [
    {
     "name": "stdout",
     "output_type": "stream",
     "text": [
      "\n",
      "Predictions:\n",
      "ID3: no\n",
      "CART: no\n"
     ]
    }
   ],
   "source": [
    "data_point = {\"age\": \"youth\", \"income\": \"high\", \"student\": \"no\", \"credit_rating\": \"fair\"}\n",
    "print(\"\\nPredictions:\")\n",
    "print(f\"ID3: {decision_tree_id3.predict(data_point)}\")\n",
    "print(f\"CART: {decision_tree_cart.predict(data_point)}\")"
   ]
  },
  {
   "cell_type": "code",
   "execution_count": 14,
   "metadata": {},
   "outputs": [
    {
     "name": "stdout",
     "output_type": "stream",
     "text": [
      "\n",
      "Predictions:\n",
      "ID3: yes\n",
      "CART: yes\n"
     ]
    }
   ],
   "source": [
    "data_point = {\"age\": \"youth\", \"income\": \"medium\", \"student\": \"no\", \"credit_rating\": \"fair\"}\n",
    "print(\"\\nPredictions:\")\n",
    "print(f\"ID3: {decision_tree_id3.predict(data_point)}\")\n",
    "print(f\"CART: {decision_tree_cart.predict(data_point)}\")"
   ]
  }
 ],
 "metadata": {
  "kernelspec": {
   "display_name": "Python 3",
   "language": "python",
   "name": "python3"
  },
  "language_info": {
   "codemirror_mode": {
    "name": "ipython",
    "version": 3
   },
   "file_extension": ".py",
   "mimetype": "text/x-python",
   "name": "python",
   "nbconvert_exporter": "python",
   "pygments_lexer": "ipython3",
   "version": "3.13.2"
  }
 },
 "nbformat": 4,
 "nbformat_minor": 2
}
