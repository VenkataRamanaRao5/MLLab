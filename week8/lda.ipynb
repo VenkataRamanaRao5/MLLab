{
  "cells": [
    {
      "cell_type": "code",
      "source": [
        "import numpy as np\n",
        "from numpy import linalg as LA\n",
        "import matplotlib.pyplot as plt"
      ],
      "outputs": [],
      "execution_count": 1,
      "metadata": {},
      "id": "c03ae904"
    },
    {
      "cell_type": "code",
      "source": [
        "data = np.unique(np.random.randint(0, 25, size=(15,2)), axis=0)[:10]\n",
        "data"
      ],
      "outputs": [
        {
          "output_type": "execute_result",
          "execution_count": 39,
          "data": {
            "text/plain": "array([[ 0,  6],\n       [ 7,  5],\n       [ 7,  6],\n       [ 7, 12],\n       [ 8,  3],\n       [ 8, 13],\n       [ 8, 22],\n       [ 9, 10],\n       [ 9, 24],\n       [12,  4]])"
          },
          "metadata": {}
        }
      ],
      "execution_count": 39,
      "metadata": {},
      "id": "a47d867a"
    },
    {
      "cell_type": "code",
      "source": [
        "plt.scatter(data[:, 0], data[:, 1])\n",
        "plt.show()"
      ],
      "outputs": [
        {
          "output_type": "display_data",
          "data": {
            "image/png": "[encoded data removed]",
            "text/plain": "<Figure size 640x480 with 1 Axes>"
          },
          "metadata": {}
        }
      ],
      "execution_count": 40,
      "metadata": {},
      "id": "e3ce4102"
    },
    {
      "cell_type": "code",
      "source": [
        "angle = 0\n",
        "intercept = 0"
      ],
      "outputs": [],
      "execution_count": 41,
      "metadata": {},
      "id": "fd79be60"
    },
    {
      "cell_type": "code",
      "source": [
        "def line(angle, intercept):\n",
        "    if abs(angle) == np.pi / 2:\n",
        "        return lambda point: point[0]\n",
        "    else:\n",
        "        return lambda point: point[1] - np.tan(angle) * point[0] + intercept"
      ],
      "outputs": [],
      "execution_count": 42,
      "metadata": {},
      "id": "e6c5ec6e"
    },
    {
      "cell_type": "code",
      "source": [],
      "outputs": [],
      "execution_count": null,
      "metadata": {},
      "id": "f6c78791"
    },
    {
      "cell_type": "code",
      "source": [
        "def equal_split(data):\n",
        "    for angle in np.arange(-np.pi / 2, np.pi / 2, 0.01):\n",
        "        for intercept in range(0, 20):\n",
        "            this_line = line(angle, intercept)\n",
        "            vals_pos = np.where(np.apply_along_axis(this_line, 1, data) > 0)[0]\n",
        "            vals_neg = np.where(np.apply_along_axis(this_line, 1, data) < 0)[0]\n",
        "            if vals_pos.size == vals_neg.size and vals_pos.size + vals_neg.size == len(data):\n",
        "                return data[vals_pos], data[vals_neg]"
      ],
      "outputs": [],
      "execution_count": 43,
      "metadata": {},
      "id": "c582184f"
    },
    {
      "cell_type": "code",
      "source": [
        "class1, class2 = equal_split(data)\n",
        "class1, class2"
      ],
      "outputs": [
        {
          "output_type": "execute_result",
          "execution_count": 44,
          "data": {
            "text/plain": "(array([[ 0,  6],\n        [ 7, 12],\n        [ 8, 13],\n        [ 8, 22],\n        [ 9, 24]]),\n array([[ 7,  5],\n        [ 7,  6],\n        [ 8,  3],\n        [ 9, 10],\n        [12,  4]]))"
          },
          "metadata": {}
        }
      ],
      "execution_count": 44,
      "metadata": {},
      "id": "7e3b01af"
    },
    {
      "cell_type": "code",
      "source": [
        "plt.scatter(class1[:, 0], class1[:, 1], marker='x', color='orange', label='class1')\n",
        "plt.scatter(class2[:, 0], class2[:, 1], marker='o', color='blue',  label='class2')\n",
        "plt.legend()\n",
        "plt.show()"
      ],
      "outputs": [
        {
          "output_type": "display_data",
          "data": {
            "image/png": "[encoded data removed]",
            "text/plain": "<Figure size 640x480 with 1 Axes>"
          },
          "metadata": {}
        }
      ],
      "execution_count": 45,
      "metadata": {},
      "id": "dd8f8241"
    },
    {
      "cell_type": "code",
      "source": [
        "class1 = class1.reshape((2, 5))\n",
        "class2 = class2.reshape((2, 5))\n",
        "class1, class2"
      ],
      "outputs": [
        {
          "output_type": "execute_result",
          "execution_count": 46,
          "data": {
            "text/plain": "(array([[ 0,  6,  7, 12,  8],\n        [13,  8, 22,  9, 24]]),\n array([[ 7,  5,  7,  6,  8],\n        [ 3,  9, 10, 12,  4]]))"
          },
          "metadata": {}
        }
      ],
      "execution_count": 46,
      "metadata": {},
      "id": "b7f12482"
    },
    {
      "cell_type": "code",
      "source": [
        "mean_class1 = np.mean(class1, axis=1)\n",
        "mean_class2 = np.mean(class2, axis=1)"
      ],
      "outputs": [],
      "execution_count": 47,
      "metadata": {},
      "id": "8d2ee7f9"
    },
    {
      "cell_type": "code",
      "source": [
        "S1 = np.zeros((2, 2))\n",
        "S2 = np.zeros((2, 2))"
      ],
      "outputs": [],
      "execution_count": 48,
      "metadata": {},
      "id": "d8fdec69"
    },
    {
      "cell_type": "code",
      "source": [
        "for i in range(5):\n",
        "    diff = class1[:, i] - mean_class1\n",
        "    S1 += np.outer(diff, diff)"
      ],
      "outputs": [],
      "execution_count": 49,
      "metadata": {},
      "id": "effa0c5f"
    },
    {
      "cell_type": "code",
      "source": [
        "for i in range(5):\n",
        "    diff = class2[:, i] - mean_class2\n",
        "    S2 += np.outer(diff, diff)"
      ],
      "outputs": [],
      "execution_count": 50,
      "metadata": {},
      "id": "0d2e2069"
    },
    {
      "cell_type": "code",
      "source": [
        "Sw = S1 + S2"
      ],
      "outputs": [],
      "execution_count": 51,
      "metadata": {},
      "id": "45fe124c"
    },
    {
      "cell_type": "code",
      "source": [
        "mean_overall = np.mean(np.concatenate((class1, class2), axis=1), axis=1)\n",
        "diff_class1 = mean_class1 - mean_overall\n",
        "diff_class2 = mean_class2 - mean_overall\n",
        "SB = np.outer(diff_class1, diff_class1) + np.outer(diff_class2, diff_class2)"
      ],
      "outputs": [],
      "execution_count": 52,
      "metadata": {},
      "id": "83866286"
    },
    {
      "cell_type": "code",
      "source": [
        "eigen_values, eigen_vectors = LA.eig(LA.inv(Sw) @ SB)"
      ],
      "outputs": [],
      "execution_count": 53,
      "metadata": {},
      "id": "de68d089"
    },
    {
      "cell_type": "code",
      "source": [
        "sorted_indices = np.argsort(eigen_values)[::-1]\n",
        "sorted_eigen_values = eigen_values[sorted_indices]\n",
        "sorted_eigen_vectors = eigen_vectors[:, sorted_indices]"
      ],
      "outputs": [],
      "execution_count": 54,
      "metadata": {},
      "id": "f8d91f06"
    },
    {
      "cell_type": "code",
      "source": [
        "k = 1\n",
        "W = sorted_eigen_vectors[:, :k]"
      ],
      "outputs": [],
      "execution_count": 55,
      "metadata": {},
      "id": "63dd01f4"
    },
    {
      "cell_type": "code",
      "source": [
        "print(\"Projection matrix W:\")\n",
        "print(W)"
      ],
      "outputs": [
        {
          "output_type": "stream",
          "name": "stdout",
          "text": "Projection matrix W:\n[[0.12828444]\n [0.99173742]]\n"
        }
      ],
      "execution_count": 56,
      "metadata": {},
      "id": "69e9eb53"
    },
    {
      "cell_type": "code",
      "source": [
        "class1_projected = W.T @ class1\n",
        "class2_projected = W.T @ class2\n",
        "\n",
        "print(\"Projected class 1 (1D):\")\n",
        "print(class1_projected)\n",
        "\n",
        "print(\"Projected class 2 (1D):\")\n",
        "print(class2_projected)"
      ],
      "outputs": [
        {
          "output_type": "stream",
          "name": "stdout",
          "text": "Projected class 1 (1D):\n[[12.89258641  8.70360598 22.71621424 10.46505004 24.82797351]]\nProjected class 2 (1D):\n[[ 3.87320334  9.56705895 10.81536525 12.67055564  4.9932252 ]]\n"
        }
      ],
      "execution_count": 57,
      "metadata": {},
      "id": "5d75963e"
    },
    {
      "cell_type": "code",
      "source": [],
      "outputs": [],
      "execution_count": null,
      "metadata": {},
      "id": "1c274542"
    }
  ],
  "metadata": {
    "kernelspec": {
      "display_name": "Python 3 (ipykernel)",
      "language": "python",
      "name": "python3"
    },
    "language_info": {
      "codemirror_mode": {
        "name": "ipython",
        "version": 3
      },
      "file_extension": ".py",
      "mimetype": "text/x-python",
      "name": "python",
      "nbconvert_exporter": "python",
      "pygments_lexer": "ipython3",
      "version": "3.11.5"
    },
    "nteract": {
      "version": "nteract-front-end@1.0.0"
    }
  },
  "nbformat": 4,
  "nbformat_minor": 5
}