{
 "cells": [
  {
   "cell_type": "code",
   "execution_count": 1,
   "id": "7bf238ca",
   "metadata": {},
   "outputs": [],
   "source": [
    "import pandas as pd\n",
    "import matplotlib.pyplot as plt\n",
    "import numpy as np"
   ]
  },
  {
   "cell_type": "code",
   "execution_count": 2,
   "id": "7db9d8f5",
   "metadata": {},
   "outputs": [],
   "source": [
    "# 1. Create a 1D and 2D array using Numpy, and print its datatype, shape, and dimension."
   ]
  },
  {
   "cell_type": "code",
   "execution_count": 3,
   "id": "218527c2",
   "metadata": {},
   "outputs": [
    {
     "name": "stdout",
     "output_type": "stream",
     "text": [
      "int32\n",
      "(3,)\n"
     ]
    }
   ],
   "source": [
    "array_1d = np.array([1,2,3])\n",
    "print(array_1d.dtype)\n",
    "print(array_1d.shape)"
   ]
  },
  {
   "cell_type": "code",
   "execution_count": 4,
   "id": "fc853d94",
   "metadata": {},
   "outputs": [
    {
     "name": "stdout",
     "output_type": "stream",
     "text": [
      "int32\n",
      "(2, 3)\n"
     ]
    }
   ],
   "source": [
    "array_2d = np.array([[1,2,3], [4,5,6]])\n",
    "print(array_2d.dtype)\n",
    "print(array_2d.shape)"
   ]
  },
  {
   "cell_type": "code",
   "execution_count": 5,
   "id": "8b571315",
   "metadata": {},
   "outputs": [],
   "source": [
    "# 2. Create a 1D and 2D array with the following initializations"
   ]
  },
  {
   "cell_type": "code",
   "execution_count": 6,
   "id": "29c14dfb",
   "metadata": {},
   "outputs": [
    {
     "name": "stdout",
     "output_type": "stream",
     "text": [
      "[-0.02324116 -0.46445982 -0.32284706 -0.10203922  0.94658237]\n",
      "[[-0.14463603  0.99505775  0.16691386 -0.12498833  0.11661956]\n",
      " [ 0.96344426  1.27581437  0.97799817  0.08675233 -1.11134589]\n",
      " [-1.63709191  0.79373408 -1.27065101  1.58077736 -0.95572892]\n",
      " [ 0.76307834  0.16149646 -3.2245366   1.89812426  1.70661974]\n",
      " [-0.49707147 -0.70595163 -0.76159563  2.08634055 -0.65205733]]\n"
     ]
    }
   ],
   "source": [
    "array_1d = np.random.randn(5)\n",
    "print(array_1d)\n",
    "array_2d = np.random.randn(5,5)\n",
    "print(array_2d)"
   ]
  },
  {
   "cell_type": "code",
   "execution_count": 7,
   "id": "7b3a031b",
   "metadata": {},
   "outputs": [
    {
     "name": "stdout",
     "output_type": "stream",
     "text": [
      "[-0.14463603  1.27581437 -1.27065101  1.89812426 -0.65205733]\n"
     ]
    }
   ],
   "source": [
    "# diagonal\n",
    "print(array_2d.diagonal())"
   ]
  },
  {
   "cell_type": "code",
   "execution_count": 8,
   "id": "c614761b",
   "metadata": {},
   "outputs": [
    {
     "name": "stdout",
     "output_type": "stream",
     "text": [
      "1D: first = -0.023241155793887674, last = 0.9465823714503184\n",
      "2D: first = [-0.14463603  0.99505775  0.16691386 -0.12498833  0.11661956], last = [-0.49707147 -0.70595163 -0.76159563  2.08634055 -0.65205733]\n"
     ]
    }
   ],
   "source": [
    "# first and last\n",
    "print(f\"1D: first = {array_1d[0]}, last = {array_1d[-1]}\")\n",
    "print(f\"2D: first = {array_2d[0]}, last = {array_2d[-1]}\")"
   ]
  },
  {
   "cell_type": "code",
   "execution_count": 9,
   "id": "605be972",
   "metadata": {},
   "outputs": [
    {
     "name": "stdout",
     "output_type": "stream",
     "text": [
      "1.2758143731621288\n",
      "1.2758143731621288\n"
     ]
    }
   ],
   "source": [
    "# 2nd row, 2nd column\n",
    "print(array_2d[1][1])\n",
    "print(array_2d[1,1])"
   ]
  },
  {
   "cell_type": "code",
   "execution_count": 10,
   "id": "5d5b4f5f",
   "metadata": {},
   "outputs": [
    {
     "name": "stdout",
     "output_type": "stream",
     "text": [
      "Number of elements: 1D: 5\n",
      "Number of elements: 2D: 25\n"
     ]
    }
   ],
   "source": [
    "# Number of elements\n",
    "print(f\"Number of elements: 1D: {array_1d.size}\")\n",
    "print(f\"Number of elements: 2D: {array_2d.size}\")"
   ]
  },
  {
   "cell_type": "code",
   "execution_count": 11,
   "id": "8c4d5b6c",
   "metadata": {},
   "outputs": [],
   "source": [
    "# 3. Find the following operations on a matrix:"
   ]
  },
  {
   "cell_type": "code",
   "execution_count": 12,
   "id": "8fd7a6d7",
   "metadata": {},
   "outputs": [
    {
     "name": "stdout",
     "output_type": "stream",
     "text": [
      "[[1 1]\n",
      " [0 4]]\n",
      "[[2 0]\n",
      " [0 3]]\n"
     ]
    }
   ],
   "source": [
    "array1 = np.array([[1,1],[0,4]])\n",
    "array2 = np.array([[2,0],[0,3]])\n",
    "print(array1)\n",
    "print(array2)"
   ]
  },
  {
   "cell_type": "code",
   "execution_count": 13,
   "id": "3efa5e69",
   "metadata": {},
   "outputs": [
    {
     "name": "stdout",
     "output_type": "stream",
     "text": [
      "4.0\n",
      "6.0\n"
     ]
    }
   ],
   "source": [
    "# Determinant\n",
    "print(np.linalg.det(array1))\n",
    "print(np.linalg.det(array2))"
   ]
  },
  {
   "cell_type": "code",
   "execution_count": 14,
   "id": "9a138b93",
   "metadata": {},
   "outputs": [
    {
     "name": "stdout",
     "output_type": "stream",
     "text": [
      "[[3 1]\n",
      " [0 7]]\n"
     ]
    }
   ],
   "source": [
    "# Addition\n",
    "print(array1 + array2)"
   ]
  },
  {
   "cell_type": "code",
   "execution_count": 15,
   "id": "66331ad4",
   "metadata": {},
   "outputs": [
    {
     "name": "stdout",
     "output_type": "stream",
     "text": [
      "[[-1  1]\n",
      " [ 0  1]]\n"
     ]
    }
   ],
   "source": [
    "# Subtraction\n",
    "print(array1 - array2)"
   ]
  },
  {
   "cell_type": "code",
   "execution_count": 16,
   "id": "4eba9cab",
   "metadata": {},
   "outputs": [
    {
     "name": "stdout",
     "output_type": "stream",
     "text": [
      "[[ 2  0]\n",
      " [ 0 12]]\n",
      "[[ 2  3]\n",
      " [ 0 12]]\n"
     ]
    }
   ],
   "source": [
    "# multiplication\n",
    "print(array1 * array2) # element-wise\n",
    "print(array1 @ array2) # matrix multiplication"
   ]
  },
  {
   "cell_type": "code",
   "execution_count": 17,
   "id": "f9115048",
   "metadata": {},
   "outputs": [
    {
     "name": "stdout",
     "output_type": "stream",
     "text": [
      "[[0.5        0.        ]\n",
      " [0.         0.33333333]]\n",
      "[[0.5        0.33333333]\n",
      " [0.         1.33333333]]\n"
     ]
    }
   ],
   "source": [
    "# Division (multiplication by inverse)\n",
    "inv = np.linalg.inv(array2)\n",
    "print(inv)\n",
    "print(array1 @ inv)"
   ]
  },
  {
   "cell_type": "code",
   "execution_count": 18,
   "id": "430b7f60",
   "metadata": {},
   "outputs": [
    {
     "name": "stdout",
     "output_type": "stream",
     "text": [
      "[[1 0]\n",
      " [1 4]]\n",
      "[[2 0]\n",
      " [0 3]]\n"
     ]
    }
   ],
   "source": [
    "# Transpose\n",
    "print(array1.T)\n",
    "print(array2.T)"
   ]
  },
  {
   "cell_type": "code",
   "execution_count": 19,
   "id": "19467dd8",
   "metadata": {},
   "outputs": [
    {
     "name": "stdout",
     "output_type": "stream",
     "text": [
      "[-2  0]\n"
     ]
    }
   ],
   "source": [
    "# cross product\n",
    "print(np.cross(array1, array2))"
   ]
  },
  {
   "cell_type": "code",
   "execution_count": 20,
   "id": "bda67b6c",
   "metadata": {},
   "outputs": [],
   "source": [
    "array_1d = np.array([1,2])\n",
    "array_2d = np.array([[3,4], [5,6]])"
   ]
  },
  {
   "cell_type": "code",
   "execution_count": 21,
   "id": "c5f24549",
   "metadata": {},
   "outputs": [
    {
     "name": "stdout",
     "output_type": "stream",
     "text": [
      "1D array = [1 2]\n",
      "2D array = [[3 4]\n",
      " [5 6]]\n"
     ]
    }
   ],
   "source": [
    "# dot product \n",
    "print(f\"1D array = {array_1d}\")\n",
    "print(f\"2D array = {array_2d}\")"
   ]
  },
  {
   "cell_type": "code",
   "execution_count": 22,
   "id": "1d94f0e6",
   "metadata": {},
   "outputs": [
    {
     "name": "stdout",
     "output_type": "stream",
     "text": [
      "5\n",
      "[13 16]\n",
      "[11 17]\n",
      "[[29 36]\n",
      " [45 56]]\n"
     ]
    }
   ],
   "source": [
    "# 1d by 1d\n",
    "print(np.dot(array_1d, array_1d))\n",
    "# 1d by 2d\n",
    "print(np.dot(array_1d, array_2d))\n",
    "# 2d by 1d\n",
    "print(np.dot(array_2d, array_1d))\n",
    "# 2d by 2d\n",
    "print(np.dot(array_2d, array_2d))"
   ]
  },
  {
   "cell_type": "code",
   "execution_count": 23,
   "id": "3b34de3d",
   "metadata": {},
   "outputs": [],
   "source": [
    "# 4. Print range values in 1D and 2D arrays"
   ]
  },
  {
   "cell_type": "code",
   "execution_count": 24,
   "id": "af5a2f1a",
   "metadata": {},
   "outputs": [
    {
     "name": "stdout",
     "output_type": "stream",
     "text": [
      "[1. 2. 3. 4. 5.]\n"
     ]
    }
   ],
   "source": [
    "array_1d = np.linspace(1, 5, 5)\n",
    "print(array_1d)"
   ]
  },
  {
   "cell_type": "code",
   "execution_count": 25,
   "id": "14fad55a",
   "metadata": {},
   "outputs": [
    {
     "name": "stdout",
     "output_type": "stream",
     "text": [
      "[[ 1.  2.  3.  4.  5.]\n",
      " [ 6.  7.  8.  9. 10.]]\n"
     ]
    }
   ],
   "source": [
    "array_2d = np.linspace((1, 6), (5, 10), 5).T\n",
    "print(array_2d)"
   ]
  },
  {
   "cell_type": "code",
   "execution_count": 26,
   "id": "072f617c",
   "metadata": {},
   "outputs": [
    {
     "name": "stdout",
     "output_type": "stream",
     "text": [
      "[2. 3. 4.]\n",
      "[3. 4. 5.]\n",
      "[1. 2.]\n"
     ]
    }
   ],
   "source": [
    "print(array_1d[1:4])\n",
    "print(array_1d[2:])\n",
    "print(array_1d[:2])"
   ]
  },
  {
   "cell_type": "code",
   "execution_count": 27,
   "id": "6f46511d",
   "metadata": {},
   "outputs": [
    {
     "name": "stdout",
     "output_type": "stream",
     "text": [
      "[[ 6.  7.  8.  9. 10.]]\n",
      "[[ 6.  7.  8.  9. 10.]]\n",
      "[[1. 2. 3. 4. 5.]]\n",
      "[[3. 4.]\n",
      " [8. 9.]]\n",
      "[2.]\n"
     ]
    }
   ],
   "source": [
    "print(array_2d[1:4])\n",
    "print(array_2d[1:])\n",
    "print(array_2d[:1])\n",
    "print(array_2d[:, 2:4])\n",
    "print(array_2d[:1,1])"
   ]
  },
  {
   "cell_type": "code",
   "execution_count": 28,
   "id": "29c90304",
   "metadata": {},
   "outputs": [],
   "source": [
    "# 5. Reshape an array"
   ]
  },
  {
   "cell_type": "code",
   "execution_count": 29,
   "id": "52057ab1",
   "metadata": {},
   "outputs": [
    {
     "name": "stdout",
     "output_type": "stream",
     "text": [
      "[[ 1.  2.  3.  4.  5.  6.  7.  8.  9. 10.]]\n"
     ]
    }
   ],
   "source": [
    "print(array_2d.reshape((1, 10)))"
   ]
  },
  {
   "cell_type": "code",
   "execution_count": 30,
   "id": "a9a4a626",
   "metadata": {},
   "outputs": [
    {
     "name": "stdout",
     "output_type": "stream",
     "text": [
      "[[1.]\n",
      " [2.]\n",
      " [3.]\n",
      " [4.]\n",
      " [5.]]\n"
     ]
    }
   ],
   "source": [
    "print(array_1d.reshape((5, 1)))"
   ]
  },
  {
   "cell_type": "code",
   "execution_count": 31,
   "id": "fb1399b0",
   "metadata": {},
   "outputs": [
    {
     "data": {
      "text/plain": [
       "array([[ 1.,  2.,  3.,  4.,  5.],\n",
       "       [ 6.,  7.,  8.,  9., 10.]])"
      ]
     },
     "execution_count": 31,
     "metadata": {},
     "output_type": "execute_result"
    }
   ],
   "source": [
    "array_2d.reshape((2,5))"
   ]
  },
  {
   "cell_type": "code",
   "execution_count": 32,
   "id": "80387269",
   "metadata": {},
   "outputs": [],
   "source": [
    "# 6. Find the following statistical measures"
   ]
  },
  {
   "cell_type": "code",
   "execution_count": 33,
   "id": "4cc0bf36",
   "metadata": {},
   "outputs": [
    {
     "name": "stdout",
     "output_type": "stream",
     "text": [
      "1.0\n"
     ]
    }
   ],
   "source": [
    "# Min\n",
    "print(array_2d.min())"
   ]
  },
  {
   "cell_type": "code",
   "execution_count": 34,
   "id": "e18cb2fa",
   "metadata": {},
   "outputs": [
    {
     "name": "stdout",
     "output_type": "stream",
     "text": [
      "10.0\n"
     ]
    }
   ],
   "source": [
    "# Max\n",
    "print(array_2d.max())"
   ]
  },
  {
   "cell_type": "code",
   "execution_count": 35,
   "id": "234f89ac",
   "metadata": {},
   "outputs": [
    {
     "name": "stdout",
     "output_type": "stream",
     "text": [
      "5.5\n"
     ]
    }
   ],
   "source": [
    "# Mean\n",
    "print(array_2d.mean())"
   ]
  },
  {
   "cell_type": "code",
   "execution_count": 36,
   "id": "fd73636b",
   "metadata": {},
   "outputs": [
    {
     "name": "stdout",
     "output_type": "stream",
     "text": [
      "55.0\n"
     ]
    }
   ],
   "source": [
    "# Sum\n",
    "print(array_2d.sum())"
   ]
  },
  {
   "cell_type": "code",
   "execution_count": 37,
   "id": "66bf2d2d",
   "metadata": {},
   "outputs": [
    {
     "name": "stdout",
     "output_type": "stream",
     "text": [
      "5.5\n"
     ]
    }
   ],
   "source": [
    "# Median\n",
    "print(np.median(array_2d))"
   ]
  },
  {
   "cell_type": "code",
   "execution_count": 38,
   "id": "ffd031e8",
   "metadata": {},
   "outputs": [
    {
     "name": "stdout",
     "output_type": "stream",
     "text": [
      "0\n"
     ]
    }
   ],
   "source": [
    "# Mode\n",
    "unique, counts = np.unique(array_2d, return_counts=True)\n",
    "print(np.argmax(counts))"
   ]
  },
  {
   "cell_type": "code",
   "execution_count": 39,
   "id": "41fc186e",
   "metadata": {},
   "outputs": [
    {
     "name": "stdout",
     "output_type": "stream",
     "text": [
      "2.8722813232690143\n"
     ]
    }
   ],
   "source": [
    "# standard deviation\n",
    "print(np.std(array_2d))"
   ]
  },
  {
   "cell_type": "code",
   "execution_count": 40,
   "id": "b5d00057",
   "metadata": {},
   "outputs": [
    {
     "name": "stdout",
     "output_type": "stream",
     "text": [
      "[[False False False False False]\n",
      " [ True  True  True  True  True]]\n"
     ]
    }
   ],
   "source": [
    "# 7. Create a boolean mask for values greater than 5:\n",
    "mask = array_2d > 5\n",
    "print(mask)"
   ]
  },
  {
   "cell_type": "code",
   "execution_count": 41,
   "id": "6cfb94d4",
   "metadata": {},
   "outputs": [
    {
     "name": "stdout",
     "output_type": "stream",
     "text": [
      "[ 6.  7.  8.  9. 10.]\n"
     ]
    }
   ],
   "source": [
    "# Use the mask to filter out values less than or equal to 5\n",
    "print(array_2d[mask])"
   ]
  },
  {
   "cell_type": "code",
   "execution_count": 42,
   "id": "b115e4ae",
   "metadata": {},
   "outputs": [
    {
     "name": "stdout",
     "output_type": "stream",
     "text": [
      "5\n"
     ]
    }
   ],
   "source": [
    "# Count the number of values greater than 5\n",
    "print(np.count_nonzero(mask))"
   ]
  },
  {
   "cell_type": "code",
   "execution_count": 43,
   "id": "ebe75ada",
   "metadata": {},
   "outputs": [],
   "source": [
    "# 8. Fancy Indexing"
   ]
  },
  {
   "cell_type": "code",
   "execution_count": 44,
   "id": "d5226535",
   "metadata": {},
   "outputs": [
    {
     "name": "stdout",
     "output_type": "stream",
     "text": [
      "[[ 1.  2.  3.  4.  5.]\n",
      " [ 6.  7.  8.  9. 10.]]\n",
      "[[ 6.  7.  8.  9. 10.]]\n",
      "[ 8.  9. 10.]\n",
      "[1. 8. 9.]\n"
     ]
    }
   ],
   "source": [
    "# Use fancy indexing to access elements at specific indices.\n",
    "print(array_2d)\n",
    "print(array_2d[[1]])\n",
    "print(array_2d[1][[2, 3, 4]])\n",
    "print(array_2d[[0, 1, 1], [0, 2 ,3]])"
   ]
  },
  {
   "cell_type": "code",
   "execution_count": 45,
   "id": "c6e3b357",
   "metadata": {},
   "outputs": [
    {
     "name": "stdout",
     "output_type": "stream",
     "text": [
      "[1. 2. 3. 4. 5.]\n",
      "[1. 3. 5.]\n"
     ]
    }
   ],
   "source": [
    "# Create a new array by selecting every other element.\n",
    "print(array_1d)\n",
    "print(array_1d[::2])"
   ]
  },
  {
   "cell_type": "code",
   "execution_count": 46,
   "id": "ad20f011",
   "metadata": {},
   "outputs": [],
   "source": [
    "# 9. Structured Array:"
   ]
  },
  {
   "cell_type": "code",
   "execution_count": 47,
   "id": "acf30f6e",
   "metadata": {},
   "outputs": [],
   "source": [
    "# Create a structured array to store information about students (name, age, and grade).\n",
    "structured_arr = x = np.array([], dtype=[('name', 'U10'), ('age', 'i4'), ('grade', 'f4')])"
   ]
  },
  {
   "cell_type": "code",
   "execution_count": 48,
   "id": "54c48f24",
   "metadata": {},
   "outputs": [],
   "source": [
    "# Create a few sample students.\n",
    "structured_arr = np.insert(structured_arr, 0, ('Rex', 20, 8.))"
   ]
  },
  {
   "cell_type": "code",
   "execution_count": 49,
   "id": "42c49e14",
   "metadata": {},
   "outputs": [],
   "source": [
    "structured_arr = np.insert(structured_arr, 0, ('Lex', 19, 9.2))"
   ]
  },
  {
   "cell_type": "code",
   "execution_count": 50,
   "id": "22b64564",
   "metadata": {},
   "outputs": [
    {
     "name": "stdout",
     "output_type": "stream",
     "text": [
      "[('Lex', 19, 9.2) ('Rex', 20, 8. )]\n"
     ]
    }
   ],
   "source": [
    "print(structured_arr)"
   ]
  },
  {
   "cell_type": "code",
   "execution_count": 51,
   "id": "d61cc64e",
   "metadata": {},
   "outputs": [
    {
     "name": "stdout",
     "output_type": "stream",
     "text": [
      "Lex\n",
      "[('Tex', 19, 9.2) ('Rex', 20, 8. )]\n"
     ]
    }
   ],
   "source": [
    "# Access and modify specific fields of the structured array.\n",
    "print(structured_arr[0]['name'])\n",
    "structured_arr[0]['name'] = 'Tex'\n",
    "print(structured_arr)"
   ]
  },
  {
   "cell_type": "code",
   "execution_count": 52,
   "id": "585201cd",
   "metadata": {},
   "outputs": [
    {
     "name": "stdout",
     "output_type": "stream",
     "text": [
      "   x1  x2   y\n",
      "0   2   1  60\n",
      "1   3   2  65\n",
      "2   4   2  70\n",
      "3   5   3  75\n",
      "4   6   3  80\n"
     ]
    }
   ],
   "source": [
    "# 10. Linear Regression:\n",
    "data = pd.read_excel(\"data.xlsx\")\n",
    "print(data)"
   ]
  },
  {
   "cell_type": "code",
   "execution_count": 53,
   "id": "92fa5e41",
   "metadata": {},
   "outputs": [
    {
     "name": "stdout",
     "output_type": "stream",
     "text": [
      "   1  x1  x2\n",
      "0  1   2   1\n",
      "1  1   3   2\n",
      "2  1   4   2\n",
      "3  1   5   3\n",
      "4  1   6   3\n"
     ]
    }
   ],
   "source": [
    "X = data[['x1', 'x2']]\n",
    "X.insert(0, '1', 1)\n",
    "print(X)"
   ]
  },
  {
   "cell_type": "code",
   "execution_count": 54,
   "id": "b49300bf",
   "metadata": {},
   "outputs": [
    {
     "name": "stdout",
     "output_type": "stream",
     "text": [
      "0    60\n",
      "1    65\n",
      "2    70\n",
      "3    75\n",
      "4    80\n",
      "Name: y, dtype: int64\n"
     ]
    }
   ],
   "source": [
    "Y = data['y']\n",
    "print(Y)"
   ]
  },
  {
   "cell_type": "code",
   "execution_count": 55,
   "id": "2ec17e5f",
   "metadata": {},
   "outputs": [
    {
     "name": "stdout",
     "output_type": "stream",
     "text": [
      "0    5.000000e+01\n",
      "1    5.000000e+00\n",
      "2   -4.263256e-13\n",
      "dtype: float64\n"
     ]
    }
   ],
   "source": [
    "B = np.linalg.inv(X.T @ X) @ X.T @ Y\n",
    "print(B)"
   ]
  },
  {
   "cell_type": "code",
   "execution_count": 56,
   "id": "79fd74aa",
   "metadata": {},
   "outputs": [],
   "source": [
    "def y_hat(x1, x2):\n",
    "    return np.dot(B, np.array([1, x1, x2]))"
   ]
  },
  {
   "cell_type": "code",
   "execution_count": 58,
   "id": "d9e69ac4",
   "metadata": {},
   "outputs": [
    {
     "name": "stdout",
     "output_type": "stream",
     "text": [
      "59.999999999999474\n"
     ]
    }
   ],
   "source": [
    "print(y_hat(2, 1))"
   ]
  }
 ],
 "metadata": {
  "kernelspec": {
   "display_name": "Python 3 (ipykernel)",
   "language": "python",
   "name": "python3"
  },
  "language_info": {
   "codemirror_mode": {
    "name": "ipython",
    "version": 3
   },
   "file_extension": ".py",
   "mimetype": "text/x-python",
   "name": "python",
   "nbconvert_exporter": "python",
   "pygments_lexer": "ipython3",
   "version": "3.10.9"
  }
 },
 "nbformat": 4,
 "nbformat_minor": 5
}
